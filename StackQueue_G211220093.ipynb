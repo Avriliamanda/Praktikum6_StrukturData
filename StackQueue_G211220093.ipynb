{
  "nbformat": 4,
  "nbformat_minor": 0,
  "metadata": {
    "colab": {
      "provenance": [],
      "authorship_tag": "ABX9TyMnCJkJK/ohk6GvhsHfKeZ4",
      "include_colab_link": true
    },
    "kernelspec": {
      "name": "python3",
      "display_name": "Python 3"
    },
    "language_info": {
      "name": "python"
    }
  },
  "cells": [
    {
      "cell_type": "markdown",
      "metadata": {
        "id": "view-in-github",
        "colab_type": "text"
      },
      "source": [
        "<a href=\"https://colab.research.google.com/github/Avriliamanda/Praktikum6_StrukturData/blob/main/StackQueue_G211220093.ipynb\" target=\"_parent\"><img src=\"https://colab.research.google.com/assets/colab-badge.svg\" alt=\"Open In Colab\"/></a>"
      ]
    },
    {
      "cell_type": "code",
      "execution_count": 1,
      "metadata": {
        "colab": {
          "base_uri": "https://localhost:8080/"
        },
        "id": "tKU5H3AxnQxa",
        "outputId": "0a39e378-33ac-422f-8ce8-170a1c7014af"
      },
      "outputs": [
        {
          "output_type": "stream",
          "name": "stdout",
          "text": [
            "deque(['Ram', 'Tarun', 'Asif', 'John'])\n",
            "deque(['Ram', 'Tarun', 'Asif', 'John', 'Akbar'])\n",
            "deque(['Ram', 'Tarun', 'Asif', 'John', 'Akbar', 'Birbal'])\n",
            "Ram\n",
            "Tarun\n",
            "deque(['Asif', 'John', 'Akbar', 'Birbal'])\n"
          ]
        }
      ],
      "source": [
        "from collections import deque\n",
        "queue = deque([\"Ram\", \"Tarun\", \"Asif\", \"John\"])\n",
        "print(queue)\n",
        "queue.append(\"Akbar\")\n",
        "print(queue)\n",
        "queue.append(\"Birbal\")\n",
        "print(queue)\n",
        "print(queue.popleft())\n",
        "print(queue.popleft())\n",
        "print(queue)"
      ]
    },
    {
      "cell_type": "code",
      "source": [
        "def TowerOfHanoi(n, dr, menuju, bantuan):\n",
        "  if n == 0:\n",
        "    return\n",
        "    TowerOfHanoi(n-1, dari, bantuan, menuju)\n",
        "    print(\"Pindah disk\", n, \"dari\", dr, \"ke\", menuju)\n",
        "    TowerOfHanoi(n-1, bantuan, dr, menuju)\n",
        "\n",
        "#Driver code\n",
        "N = 3\n",
        "#A,C,B are the name of rods\n",
        "TowerOfHanoi(N, 'A', 'C', 'B')"
      ],
      "metadata": {
        "id": "5qtdU-S_oYEC"
      },
      "execution_count": 2,
      "outputs": []
    },
    {
      "cell_type": "markdown",
      "source": [
        "Mengurutkan dalam sebuah stack"
      ],
      "metadata": {
        "id": "zgOU7Tngts6E"
      }
    },
    {
      "cell_type": "code",
      "source": [
        "def sortStack (input):\n",
        "  tmpStack = []\n",
        "  while (len(input) > 0):\n",
        "    #pop out the first element\n",
        "    tmp = input[-1]\n",
        "    input.pop()\n",
        "    #while temporary stack is not empty\n",
        "    #and top of stack is smaller than temp\n",
        "    while (len(tmpStack) > 0 and tmpStack[-1] < tmp):\n",
        "      #pop from temporary stack and\n",
        "      #append it to the input stack\n",
        "      input.append(tmpStack[-1])\n",
        "      tmpStack.pop()\n",
        "    #append temp in temporary of stack\n",
        "    tmpStack.append(tmp)\n",
        "  return tmpStack\n",
        "\n",
        "def sortArrayUsingStacks (arr, n):\n",
        "  #append array elements to stack\n",
        "  input = []\n",
        "  i = 0\n",
        "  while (i<n):\n",
        "    input.append(arr[i])\n",
        "    i=i+1\n",
        "  #Sort the temporary stack\n",
        "  tmpStack = sortStack(input)\n",
        "  i = 0\n",
        "  #Put stack elements in arrp[]\n",
        "  while (i < n):\n",
        "    arr[i] = tmpStack[-1]\n",
        "    tmpStack.pop ()\n",
        "    i = i + 1\n",
        "  return arr\n",
        "#Driver code\n",
        "arr = [10, 5, 15, 45]\n",
        "n = len(arr)\n",
        "\n",
        "arr = sortArrayUsingStacks(arr, n)\n",
        "i = 0\n",
        "while (i < n):\n",
        "  print (arr[i],end= \"\")\n",
        "  i=i+1"
      ],
      "metadata": {
        "colab": {
          "base_uri": "https://localhost:8080/"
        },
        "id": "CwADztwPsSWO",
        "outputId": "2f459b74-afda-49e7-db3c-555e74cac659"
      },
      "execution_count": 3,
      "outputs": [
        {
          "output_type": "stream",
          "name": "stdout",
          "text": [
            "5101545"
          ]
        }
      ]
    }
  ]
}